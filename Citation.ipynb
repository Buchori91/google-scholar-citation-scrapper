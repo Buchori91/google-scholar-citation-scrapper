{
  "cells": [
    {
      "cell_type": "code",
      "execution_count": 1,
      "metadata": {
        "id": "U2kQ891wKZY_"
      },
      "outputs": [],
      "source": [
        "import requests\n",
        "from bs4 import BeautifulSoup\n",
        "import pandas as pd\n",
        "import time"
      ]
    },
    {
      "cell_type": "code",
      "execution_count": 2,
      "metadata": {
        "id": "QHVs8yeXKZZB"
      },
      "outputs": [],
      "source": [
        "user_agent = 'Your User Agent'"
      ]
    },
    {
      "cell_type": "code",
      "execution_count": 49,
      "metadata": {
        "id": "3JKlFsIzKZZC"
      },
      "outputs": [],
      "source": [
        "columns = ['Publication','Writer_Data','Journal_Data','Link', 'Citation_2022','Citation_2021','Citation_2020','Citation_2019','Done']\n",
        "citations = pd.DataFrame(columns= columns)"
      ]
    },
    {
      "cell_type": "code",
      "execution_count": 57,
      "metadata": {
        "id": "KnkR5JXFKZZD"
      },
      "outputs": [],
      "source": [
        "class Error(Exception):\n",
        "    \"\"\"Base class for exceptions in this module.\"\"\"\n",
        "    pass\n",
        "\n",
        "class CaptchaError(Error):\n",
        "    def __init__(self, message):\n",
        "        self.message = message\n",
        "\n",
        "class RequestError(Error):\n",
        "    def __init__(self, message):\n",
        "        self.message = message\n",
        "\n",
        "def error_catcher(r, soup):\n",
        "    if r.status_code != 200:\n",
        "        raise RequestError(\"Request Error {}\".format(r.status_code))\n",
        "    is_captcha_on_page = soup.find(\"input\", id=\"recaptcha-token\") is not None\n",
        "    if (is_captcha_on_page == True):\n",
        "        raise CaptchaError(\"Captcha Error\")\n",
        "    return is_captcha_on_page\n",
        "\n",
        "def scholar_get_publications(start = 0, scholar_id =\"s7Qdk00AAAAJ\"):\n",
        "    current = int(start)\n",
        "    payload = {'cstart':start, 'pagesize':'100','hl':'en', 'user':scholar_id}\n",
        "    r = requests.post('https://scholar.google.com/citations?', params=payload, headers = {'User-agent': user_agent})\n",
        "    r_soup =  BeautifulSoup(r.text, 'html.parser')  \n",
        "    \n",
        "    error_catcher(r, r_soup)\n",
        "\n",
        "    pubs_result = (r_soup.find_all('tr', class_=\"gsc_a_tr\"))\n",
        "    \n",
        "    while is_there_more(r_soup, current, scholar_id):\n",
        "        current = current + 100\n",
        "        pubs_result = pubs_result + scholar_get_publications(current, scholar_id)\n",
        "    return pubs_result\n",
        "\n",
        "def scholar_get_publications_raw (start = 0, scholar_id =\"s7Qdk00AAAAJ\"):\n",
        "    payload = {'cstart':start, 'pagesize':'100','hl':'en', 'user':scholar_id}\n",
        "    r = requests.post('https://scholar.google.com/citations?', params=payload, headers = {'User-agent': user_agent})\n",
        "    r_soup =  BeautifulSoup(r.text, 'html.parser')\n",
        "    return r_soup\n",
        "\n",
        "def is_there_more(r_soup, current = 0, scholar_id =\"s7Qdk00AAAAJ\"):\n",
        "    number_of_cit = str(r_soup.find(\"span\", {\"id\": \"gsc_a_nn\"}))\n",
        "    res = number_of_cit.partition(\"–\")[2] \n",
        "    number_of_cit = number_of_cit[number_of_cit.find(\"–\"):]\n",
        "    \n",
        "    current = int(current)\n",
        "\n",
        "    if (number_of_cit.find(\"</span>\") > 0):\n",
        "        number_of_cit = number_of_cit[:number_of_cit.find(\"</span>\")]\n",
        "        number_of_cit = int(number_of_cit[1:])\n",
        "    else:\n",
        "        number_of_cit = 0\n",
        "        \n",
        "    if (number_of_cit >= (current+100)):\n",
        "        return True\n",
        "    return False\n",
        "\n",
        "def get_citation_data_from_publications(publications):\n",
        "    columns = ['Publication','Writer_Data','Journal_Data','Link', 'Citation_2022','Citation_2021','Citation_2020','Citation_2019','Done']\n",
        "    dataframe = pd.DataFrame(columns= columns)\n",
        "    for pub in publications:\n",
        "        # Get the Citation Link\n",
        "        a_class_attrs = pub.find('a').attrs\n",
        "        link = a_class_attrs['href']\n",
        "        link = link.split(\"citation_for_view=\",1)[1] \n",
        "        Judul = pub.find('a').get_text()\n",
        "        divs = (pub.find_all('div', class_=\"gs_gray\"))\n",
        "        iterator_i = 0\n",
        "        for div in divs:\n",
        "            # This Line will always iterate maximum two times\n",
        "            text = div.get_text().splitlines()\n",
        "            if (iterator_i == 0):\n",
        "                author = text\n",
        "            else:\n",
        "                journal_name = text\n",
        "            iterator_i = 1\n",
        "        input_panda = {\n",
        "            'Publication': Judul,\n",
        "            'Writer_Data': author,\n",
        "            'Journal_Data': journal_name,\n",
        "            'Link': link\n",
        "        }\n",
        "        dataframe = dataframe.append(input_panda, ignore_index=True)\n",
        "    return dataframe\n",
        "\n",
        "def get_citation_data_year(citation_id='s7Qdk00AAAAJ:u5HHmVD_uO8C'):\n",
        "    time.sleep(0.01)\n",
        "    payload = {'citation_for_view':citation_id, 'view_op':\"view_citation\"}\n",
        "    r = requests.post('https://scholar.google.com/citations?', params=payload,  headers = {'User-agent': user_agent})\n",
        "    r_soup =  BeautifulSoup(r.text, 'html.parser')\n",
        "    \n",
        "    error_catcher(r, r_soup)\n",
        "    cite_results = (r_soup.find_all('a', class_=\"gsc_oci_g_a\"))\n",
        "    citation_data = {}\n",
        "\n",
        "    for cite_result in cite_results:\n",
        "            a_class_attrs = cite_result.attrs\n",
        "            citation_year = a_class_attrs['href']\n",
        "            citation_year = citation_year.split(\"yhi=\",1)[1]\n",
        "            citation_number = cite_result.get_text()\n",
        "            citation_data.update({citation_year : citation_number})\n",
        "\n",
        "    return citation_data"
      ]
    },
    {
      "cell_type": "code",
      "execution_count": 47,
      "metadata": {
        "id": "88zUEOQrKZZG"
      },
      "outputs": [],
      "source": [
        "scholars= pd.read_csv(\"dosen.csv\", delimiter=',') # Format File - Nama Dosen dan ID Google Scholar"
      ]
    },
    {
      "cell_type": "code",
      "execution_count": 58,
      "metadata": {
        "id": "tACyXLVJKZZH"
      },
      "outputs": [],
      "source": [
        "for index, row in scholars.iterrows():\n",
        "    scholar_id = row['Scholar-id']\n",
        "    temp_data = get_citation_data_from_publications(scholar_get_publications(0,scholar_id))\n",
        "    temp_data['Author'] = row['Name']\n",
        "    citations = citations.append(temp_data, ignore_index = True)"
      ]
    },
    {
      "cell_type": "code",
      "source": [
        "citations"
      ],
      "metadata": {
        "id": "KcV5GzlbOMH-"
      },
      "execution_count": null,
      "outputs": []
    },
    {
      "cell_type": "code",
      "execution_count": null,
      "metadata": {
        "id": "I8THLCDIKZZH"
      },
      "outputs": [],
      "source": [
        "for index, row in citations.iterrows():\n",
        "    if (row['Done'] != True):\n",
        "        print(index)\n",
        "        row['Citation_2022'] = 0\n",
        "        row['Citation_2021'] = 0\n",
        "        row['Citation_2020'] = 0\n",
        "        row['Citation_2019'] = 0\n",
        "        citation_data_year = get_citation_data_year(row['Link'])\n",
        "        if (citation_data_year.get('2022') != None):\n",
        "            row['Citation_2022'] = citation_data_year.get(\"2022\")\n",
        "        if (citation_data_year.get('2021') != None):\n",
        "            row['Citation_2021'] = citation_data_year.get(\"2021\")\n",
        "        if (citation_data_year.get('2020') != None):\n",
        "            row['Citation_2020'] = citation_data_year.get(\"2020\")\n",
        "        if (citation_data_year.get('2019') != None):\n",
        "            row['Citation_2019'] = citation_data_year.get(\"2019\")\n",
        "        row['Done'] = True"
      ]
    },
    {
      "cell_type": "code",
      "execution_count": null,
      "metadata": {
        "id": "lA7DoylQKZZI"
      },
      "outputs": [],
      "source": [
        "citations.to_excel(\"data.xlsx\")"
      ]
    }
  ],
  "metadata": {
    "kernelspec": {
      "display_name": "Python 3",
      "language": "python",
      "name": "python3"
    },
    "language_info": {
      "codemirror_mode": {
        "name": "ipython",
        "version": 3
      },
      "file_extension": ".py",
      "mimetype": "text/x-python",
      "name": "python",
      "nbconvert_exporter": "python",
      "pygments_lexer": "ipython3",
      "version": "3.7.4"
    },
    "colab": {
      "provenance": []
    }
  },
  "nbformat": 4,
  "nbformat_minor": 0
}
